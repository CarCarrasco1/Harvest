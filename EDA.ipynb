{
 "cells": [
  {
   "attachments": {},
   "cell_type": "markdown",
   "metadata": {},
   "source": [
    "# HARVEST"
   ]
  },
  {
   "attachments": {},
   "cell_type": "markdown",
   "metadata": {},
   "source": [
    "## EDA"
   ]
  },
  {
   "cell_type": "code",
   "execution_count": 7,
   "metadata": {},
   "outputs": [],
   "source": [
    "#Bibliotecas\n",
    "import pandas as pd\n",
    "import numpy as np\n",
    "import seaborn as snb"
   ]
  },
  {
   "cell_type": "code",
   "execution_count": 8,
   "metadata": {},
   "outputs": [
    {
     "name": "stdout",
     "output_type": "stream",
     "text": [
      "<class 'pandas.core.frame.DataFrame'>\n",
      "RangeIndex: 6497 entries, 0 to 6496\n",
      "Data columns (total 14 columns):\n",
      " #   Column                   Non-Null Count  Dtype  \n",
      "---  ------                   --------------  -----  \n",
      " 0   botella_id               6497 non-null   int64  \n",
      " 1   acidez fija              6497 non-null   float64\n",
      " 2   acidez volatil           6497 non-null   float64\n",
      " 3   acido citrico            6497 non-null   float64\n",
      " 4   azucar residual          6497 non-null   float64\n",
      " 5   cloruros                 6497 non-null   float64\n",
      " 6   dioxido de azufre libre  6497 non-null   float64\n",
      " 7   dioxido de azufre total  6497 non-null   float64\n",
      " 8   densidad                 6497 non-null   float64\n",
      " 9   pH                       6497 non-null   float64\n",
      " 10  sulfatos                 6497 non-null   float64\n",
      " 11  alcohol                  6497 non-null   float64\n",
      " 12  color                    6497 non-null   object \n",
      " 13  calidad                  6497 non-null   int64  \n",
      "dtypes: float64(11), int64(2), object(1)\n",
      "memory usage: 710.7+ KB\n"
     ]
    }
   ],
   "source": [
    "vinos = pd.read_csv(r\"C:\\Users\\carra\\Dropbox\\PC\\Desktop\\Harvest\\Harvest\\calidad_de_vino.csv\")\n",
    "vinos.info()"
   ]
  },
  {
   "cell_type": "code",
   "execution_count": 9,
   "metadata": {},
   "outputs": [
    {
     "data": {
      "text/html": [
       "<div>\n",
       "<style scoped>\n",
       "    .dataframe tbody tr th:only-of-type {\n",
       "        vertical-align: middle;\n",
       "    }\n",
       "\n",
       "    .dataframe tbody tr th {\n",
       "        vertical-align: top;\n",
       "    }\n",
       "\n",
       "    .dataframe thead th {\n",
       "        text-align: right;\n",
       "    }\n",
       "</style>\n",
       "<table border=\"1\" class=\"dataframe\">\n",
       "  <thead>\n",
       "    <tr style=\"text-align: right;\">\n",
       "      <th></th>\n",
       "      <th>botella_id</th>\n",
       "      <th>acidez fija</th>\n",
       "      <th>acidez volatil</th>\n",
       "      <th>acido citrico</th>\n",
       "      <th>azucar residual</th>\n",
       "      <th>cloruros</th>\n",
       "      <th>dioxido de azufre libre</th>\n",
       "      <th>dioxido de azufre total</th>\n",
       "      <th>densidad</th>\n",
       "      <th>pH</th>\n",
       "      <th>sulfatos</th>\n",
       "      <th>alcohol</th>\n",
       "      <th>color</th>\n",
       "      <th>calidad</th>\n",
       "    </tr>\n",
       "  </thead>\n",
       "  <tbody>\n",
       "    <tr>\n",
       "      <th>0</th>\n",
       "      <td>0</td>\n",
       "      <td>9.5</td>\n",
       "      <td>0.56</td>\n",
       "      <td>0.33</td>\n",
       "      <td>2.4</td>\n",
       "      <td>0.089</td>\n",
       "      <td>35.0</td>\n",
       "      <td>67.0</td>\n",
       "      <td>0.99720</td>\n",
       "      <td>3.28</td>\n",
       "      <td>0.73</td>\n",
       "      <td>11.8</td>\n",
       "      <td>rojo</td>\n",
       "      <td>7</td>\n",
       "    </tr>\n",
       "    <tr>\n",
       "      <th>1</th>\n",
       "      <td>1</td>\n",
       "      <td>6.6</td>\n",
       "      <td>0.24</td>\n",
       "      <td>0.28</td>\n",
       "      <td>1.8</td>\n",
       "      <td>0.028</td>\n",
       "      <td>39.0</td>\n",
       "      <td>132.0</td>\n",
       "      <td>0.99182</td>\n",
       "      <td>3.34</td>\n",
       "      <td>0.46</td>\n",
       "      <td>11.4</td>\n",
       "      <td>blanco</td>\n",
       "      <td>5</td>\n",
       "    </tr>\n",
       "    <tr>\n",
       "      <th>2</th>\n",
       "      <td>2</td>\n",
       "      <td>9.4</td>\n",
       "      <td>0.59</td>\n",
       "      <td>0.14</td>\n",
       "      <td>2.0</td>\n",
       "      <td>0.084</td>\n",
       "      <td>25.0</td>\n",
       "      <td>48.0</td>\n",
       "      <td>0.99810</td>\n",
       "      <td>3.14</td>\n",
       "      <td>0.56</td>\n",
       "      <td>9.7</td>\n",
       "      <td>rojo</td>\n",
       "      <td>5</td>\n",
       "    </tr>\n",
       "    <tr>\n",
       "      <th>3</th>\n",
       "      <td>3</td>\n",
       "      <td>6.1</td>\n",
       "      <td>0.32</td>\n",
       "      <td>0.33</td>\n",
       "      <td>10.7</td>\n",
       "      <td>0.036</td>\n",
       "      <td>27.0</td>\n",
       "      <td>98.0</td>\n",
       "      <td>0.99521</td>\n",
       "      <td>3.34</td>\n",
       "      <td>0.52</td>\n",
       "      <td>10.2</td>\n",
       "      <td>blanco</td>\n",
       "      <td>6</td>\n",
       "    </tr>\n",
       "    <tr>\n",
       "      <th>4</th>\n",
       "      <td>4</td>\n",
       "      <td>7.0</td>\n",
       "      <td>0.36</td>\n",
       "      <td>0.35</td>\n",
       "      <td>2.5</td>\n",
       "      <td>0.048</td>\n",
       "      <td>67.0</td>\n",
       "      <td>161.0</td>\n",
       "      <td>0.99146</td>\n",
       "      <td>3.05</td>\n",
       "      <td>0.56</td>\n",
       "      <td>11.1</td>\n",
       "      <td>blanco</td>\n",
       "      <td>6</td>\n",
       "    </tr>\n",
       "  </tbody>\n",
       "</table>\n",
       "</div>"
      ],
      "text/plain": [
       "   botella_id  acidez fija  acidez volatil  acido citrico  azucar residual  \\\n",
       "0           0          9.5            0.56           0.33              2.4   \n",
       "1           1          6.6            0.24           0.28              1.8   \n",
       "2           2          9.4            0.59           0.14              2.0   \n",
       "3           3          6.1            0.32           0.33             10.7   \n",
       "4           4          7.0            0.36           0.35              2.5   \n",
       "\n",
       "   cloruros  dioxido de azufre libre  dioxido de azufre total  densidad    pH  \\\n",
       "0     0.089                     35.0                     67.0   0.99720  3.28   \n",
       "1     0.028                     39.0                    132.0   0.99182  3.34   \n",
       "2     0.084                     25.0                     48.0   0.99810  3.14   \n",
       "3     0.036                     27.0                     98.0   0.99521  3.34   \n",
       "4     0.048                     67.0                    161.0   0.99146  3.05   \n",
       "\n",
       "   sulfatos  alcohol   color  calidad  \n",
       "0      0.73     11.8    rojo        7  \n",
       "1      0.46     11.4  blanco        5  \n",
       "2      0.56      9.7    rojo        5  \n",
       "3      0.52     10.2  blanco        6  \n",
       "4      0.56     11.1  blanco        6  "
      ]
     },
     "execution_count": 9,
     "metadata": {},
     "output_type": "execute_result"
    }
   ],
   "source": [
    "vinos.head()"
   ]
  },
  {
   "cell_type": "code",
   "execution_count": 19,
   "metadata": {},
   "outputs": [],
   "source": [
    "#Elimino los espacios de lo nombres de la columnas, para poder trabajar mejor.\n",
    "\n",
    "vinos = vinos.rename(columns=lambda x: x.strip().replace(\" \", \"_\"))"
   ]
  },
  {
   "cell_type": "code",
   "execution_count": 16,
   "metadata": {},
   "outputs": [
    {
     "data": {
      "text/plain": [
       "array([7, 5, 6, 3, 4, 8, 9], dtype=int64)"
      ]
     },
     "execution_count": 16,
     "metadata": {},
     "output_type": "execute_result"
    }
   ],
   "source": [
    "vinos['calidad'].unique()"
   ]
  },
  {
   "cell_type": "code",
   "execution_count": 17,
   "metadata": {},
   "outputs": [
    {
     "data": {
      "text/plain": [
       "array(['rojo', 'blanco'], dtype=object)"
      ]
     },
     "execution_count": 17,
     "metadata": {},
     "output_type": "execute_result"
    }
   ],
   "source": [
    "vinos['color'].unique()"
   ]
  },
  {
   "cell_type": "code",
   "execution_count": 20,
   "metadata": {},
   "outputs": [
    {
     "data": {
      "text/html": [
       "<div>\n",
       "<style scoped>\n",
       "    .dataframe tbody tr th:only-of-type {\n",
       "        vertical-align: middle;\n",
       "    }\n",
       "\n",
       "    .dataframe tbody tr th {\n",
       "        vertical-align: top;\n",
       "    }\n",
       "\n",
       "    .dataframe thead th {\n",
       "        text-align: right;\n",
       "    }\n",
       "</style>\n",
       "<table border=\"1\" class=\"dataframe\">\n",
       "  <thead>\n",
       "    <tr style=\"text-align: right;\">\n",
       "      <th></th>\n",
       "      <th>botella_id</th>\n",
       "      <th>acidez_fija</th>\n",
       "      <th>acidez_volatil</th>\n",
       "      <th>acido_citrico</th>\n",
       "      <th>azucar_residual</th>\n",
       "      <th>cloruros</th>\n",
       "      <th>dioxido_de_azufre_libre</th>\n",
       "      <th>dioxido_de_azufre_total</th>\n",
       "      <th>densidad</th>\n",
       "      <th>pH</th>\n",
       "      <th>sulfatos</th>\n",
       "      <th>alcohol</th>\n",
       "      <th>color</th>\n",
       "      <th>calidad</th>\n",
       "    </tr>\n",
       "  </thead>\n",
       "  <tbody>\n",
       "    <tr>\n",
       "      <th>0</th>\n",
       "      <td>0</td>\n",
       "      <td>9.5</td>\n",
       "      <td>0.56</td>\n",
       "      <td>0.33</td>\n",
       "      <td>2.4</td>\n",
       "      <td>0.089</td>\n",
       "      <td>35.0</td>\n",
       "      <td>67.0</td>\n",
       "      <td>0.99720</td>\n",
       "      <td>3.28</td>\n",
       "      <td>0.73</td>\n",
       "      <td>11.8</td>\n",
       "      <td>1</td>\n",
       "      <td>7</td>\n",
       "    </tr>\n",
       "    <tr>\n",
       "      <th>1</th>\n",
       "      <td>1</td>\n",
       "      <td>6.6</td>\n",
       "      <td>0.24</td>\n",
       "      <td>0.28</td>\n",
       "      <td>1.8</td>\n",
       "      <td>0.028</td>\n",
       "      <td>39.0</td>\n",
       "      <td>132.0</td>\n",
       "      <td>0.99182</td>\n",
       "      <td>3.34</td>\n",
       "      <td>0.46</td>\n",
       "      <td>11.4</td>\n",
       "      <td>2</td>\n",
       "      <td>5</td>\n",
       "    </tr>\n",
       "    <tr>\n",
       "      <th>2</th>\n",
       "      <td>2</td>\n",
       "      <td>9.4</td>\n",
       "      <td>0.59</td>\n",
       "      <td>0.14</td>\n",
       "      <td>2.0</td>\n",
       "      <td>0.084</td>\n",
       "      <td>25.0</td>\n",
       "      <td>48.0</td>\n",
       "      <td>0.99810</td>\n",
       "      <td>3.14</td>\n",
       "      <td>0.56</td>\n",
       "      <td>9.7</td>\n",
       "      <td>1</td>\n",
       "      <td>5</td>\n",
       "    </tr>\n",
       "    <tr>\n",
       "      <th>3</th>\n",
       "      <td>3</td>\n",
       "      <td>6.1</td>\n",
       "      <td>0.32</td>\n",
       "      <td>0.33</td>\n",
       "      <td>10.7</td>\n",
       "      <td>0.036</td>\n",
       "      <td>27.0</td>\n",
       "      <td>98.0</td>\n",
       "      <td>0.99521</td>\n",
       "      <td>3.34</td>\n",
       "      <td>0.52</td>\n",
       "      <td>10.2</td>\n",
       "      <td>2</td>\n",
       "      <td>6</td>\n",
       "    </tr>\n",
       "    <tr>\n",
       "      <th>4</th>\n",
       "      <td>4</td>\n",
       "      <td>7.0</td>\n",
       "      <td>0.36</td>\n",
       "      <td>0.35</td>\n",
       "      <td>2.5</td>\n",
       "      <td>0.048</td>\n",
       "      <td>67.0</td>\n",
       "      <td>161.0</td>\n",
       "      <td>0.99146</td>\n",
       "      <td>3.05</td>\n",
       "      <td>0.56</td>\n",
       "      <td>11.1</td>\n",
       "      <td>2</td>\n",
       "      <td>6</td>\n",
       "    </tr>\n",
       "  </tbody>\n",
       "</table>\n",
       "</div>"
      ],
      "text/plain": [
       "   botella_id  acidez_fija  acidez_volatil  acido_citrico  azucar_residual  \\\n",
       "0           0          9.5            0.56           0.33              2.4   \n",
       "1           1          6.6            0.24           0.28              1.8   \n",
       "2           2          9.4            0.59           0.14              2.0   \n",
       "3           3          6.1            0.32           0.33             10.7   \n",
       "4           4          7.0            0.36           0.35              2.5   \n",
       "\n",
       "   cloruros  dioxido_de_azufre_libre  dioxido_de_azufre_total  densidad    pH  \\\n",
       "0     0.089                     35.0                     67.0   0.99720  3.28   \n",
       "1     0.028                     39.0                    132.0   0.99182  3.34   \n",
       "2     0.084                     25.0                     48.0   0.99810  3.14   \n",
       "3     0.036                     27.0                     98.0   0.99521  3.34   \n",
       "4     0.048                     67.0                    161.0   0.99146  3.05   \n",
       "\n",
       "   sulfatos  alcohol  color  calidad  \n",
       "0      0.73     11.8      1        7  \n",
       "1      0.46     11.4      2        5  \n",
       "2      0.56      9.7      1        5  \n",
       "3      0.52     10.2      2        6  \n",
       "4      0.56     11.1      2        6  "
      ]
     },
     "execution_count": 20,
     "metadata": {},
     "output_type": "execute_result"
    }
   ],
   "source": [
    "# Creo una referencia numérica para el color de vino\n",
    "# Defin un diccionario que mapee los valores de string a sus correspondientes números\n",
    "\n",
    "replace = {\n",
    "    'rojo': 1,\n",
    "    'blanco': 2\n",
    "}\n",
    "\n",
    "# Utilizo el método 'replace' para hacer el reemplazo en la columna 'color'\n",
    "\n",
    "vinos['color'] = vinos['color'].replace(replace)\n",
    "\n",
    "vinos.head()"
   ]
  },
  {
   "attachments": {},
   "cell_type": "markdown",
   "metadata": {},
   "source": [
    "### Relación acidez-color"
   ]
  },
  {
   "cell_type": "code",
   "execution_count": 21,
   "metadata": {},
   "outputs": [
    {
     "name": "stdout",
     "output_type": "stream",
     "text": [
      "La correlación entre columna1 y columna2 es: -0.4867398320680519\n"
     ]
    }
   ],
   "source": [
    "correlacion = vinos['acidez_fija'].corr(vinos['color'])\n",
    "\n",
    "print(\"La correlación entre columna1 y columna2 es:\", correlacion)"
   ]
  },
  {
   "cell_type": "code",
   "execution_count": 23,
   "metadata": {},
   "outputs": [],
   "source": [
    "import matplotlib.pyplot as plt\n",
    "import seaborn as sns"
   ]
  },
  {
   "cell_type": "code",
   "execution_count": 29,
   "metadata": {},
   "outputs": [
    {
     "data": {
      "image/png": "[encoded data removed]",
      "text/plain": [
       "<Figure size 640x480 with 1 Axes>"
      ]
     },
     "metadata": {},
     "output_type": "display_data"
    }
   ],
   "source": [
    "# Graficar los datos en un gráfico de dispersión\n",
    "plt.scatter(vinos['color'], vinos['acidez_fija'], color='blue', label='Datos')\n",
    "\n",
    "# Agregar una línea para mostrar la correlación entre las dos columnas\n",
    "#plt.plot(vinos['acidez_fija'], correlacion * vinos['color'], color='red', label=f'Correlación: {correlacion:.2f}')\n",
    "\n",
    "# Configuraciones del gráfico\n",
    "plt.xlabel('Acidez')\n",
    "plt.ylabel('Color')\n",
    "plt.title('Relación de acidez-color')\n",
    "plt.legend()\n",
    "plt.grid(True)\n",
    "\n",
    "# Mostrar el gráfico\n",
    "plt.show()"
   ]
  },
  {
   "cell_type": "code",
   "execution_count": null,
   "metadata": {},
   "outputs": [],
   "source": []
  }
 ],
 "metadata": {
  "kernelspec": {
   "display_name": "base",
   "language": "python",
   "name": "python3"
  },
  "language_info": {
   "codemirror_mode": {
    "name": "ipython",
    "version": 3
   },
   "file_extension": ".py",
   "mimetype": "text/x-python",
   "name": "python",
   "nbconvert_exporter": "python",
   "pygments_lexer": "ipython3",
   "version": "3.9.13"
  },
  "orig_nbformat": 4
 },
 "nbformat": 4,
 "nbformat_minor": 2
}
